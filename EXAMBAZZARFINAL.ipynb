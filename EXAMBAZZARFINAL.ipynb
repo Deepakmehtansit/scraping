{
 "cells": [
  {
   "cell_type": "code",
   "execution_count": 6,
   "metadata": {},
   "outputs": [
    {
     "name": "stdout",
     "output_type": "stream",
     "text": [
      "first :https://www.exambazaar.com//iit-jee-advanced-coaching/delhi\n"
     ]
    }
   ],
   "source": [
    "import time\n",
    "from selenium import webdriver\n",
    "from bs4 import BeautifulSoup as bs\n",
    "import re\n",
    "import pandas as pd\n",
    "from pandas import ExcelWriter\n",
    "import datetime\n",
    "import os\n",
    "\n",
    "dt = datetime.datetime.now().strftime(\"%Y/%m/%d-%H:%M:%S\")\n",
    "filename = 'institute_details1'\n",
    "writer = pd.ExcelWriter(filename+'.xlsx')\n",
    "chrome_path = r'C:\\Users\\user\\chromedriver.exe'\n",
    "browser = webdriver.Chrome(chrome_path)\n",
    "time.sleep(1)\n",
    "\n",
    "link=\"https://www.exambazaar.com/\"\n",
    "browser.get(link)\n",
    "\n",
    "source_data = browser.page_source\n",
    "\n",
    "bs_data = bs(source_data, 'lxml')\n",
    "\n",
    "soup = bs_data.find_all('div',{'class':'p0Button width100 layout-align-center-center layout-row'})\n",
    "lst_dict = []\n",
    "category_link = []\n",
    "try:\n",
    "    for i in range(len(soup)):\n",
    "\n",
    "        l = soup[i].get('href')\n",
    "        CATEGORY_URL = link+l\n",
    "        CATEGORY_URL = CATEGORY_URL.replace('gurgaon','delhi')\n",
    "        a = CATEGORY_URL.split(\"/\")[4]\n",
    "\n",
    "        print(\"first :\" + CATEGORY_URL)\n",
    "        brow = webdriver.Chrome(chrome_path)\n",
    "        time.sleep(2)\n",
    "        brow.get(CATEGORY_URL)\n",
    "\n",
    "        lenOfPage = brow.execute_script(\"window.scrollTo(0, document.body.scrollHeight);var lenOfPage=document.body.scrollHeight;return lenOfPage;\")\n",
    "        match=False\n",
    "        while(match==False):\n",
    "            lastCount = lenOfPage\n",
    "            time.sleep(20)\n",
    "            lenOfPage = brow.execute_script(\"window.scrollTo(0, document.body.scrollHeight);var lenOfPage=document.body.scrollHeight;return lenOfPage;\")\n",
    "            if lastCount==lenOfPage:\n",
    "                match=True\n",
    "\n",
    "        link_data = brow.page_source        \n",
    "        bs_data = bs(link_data, 'lxml')\n",
    "        h = bs_data.find_all('div',{'class': 'width100 brandBottomBorder2 layout-align-start-start layout-column'})\n",
    "#         h = bs_data.find_all('div',{'class': 'width100 layout-xs-column layout-sm-column layout-md-column layout-gt-md-row layout-align-start-start'})\n",
    "        brow.close()\n",
    "        print(\"second :\" + len(h))\n",
    "        try:\n",
    "            for j in range(len(h)):\n",
    "                ins = h[j].find('a').get('href')\n",
    "                print(ins)\n",
    "                \n",
    "                INSTITUTE_URL = link+ins\n",
    "                brows = webdriver.Chrome(chrome_path)\n",
    "                time.sleep(2)\n",
    "                brows.get(link+ins)\n",
    "                time.sleep(12)\n",
    "                so=bs(brows.page_source, 'lxml')\n",
    "                h1=so.find_all('div',{'class': 'width100 layout-align-start-start layout-column flex-xs-100 flex-sm-100 flex-md-50 flex-gt-md-70'})\n",
    "                print(j)\n",
    "                time.sleep(1)\n",
    "                institute_name = brows.find_elements_by_xpath('//*[@id=\"exambazaar\"]/div[1]/div[2]/div/div/div/div/div[3]/div[1]/h1')\n",
    "                ins_name = institute_name[0].text.split(\"\\n\")[0]\n",
    "                INSTITUTE_NAME = ins_name\n",
    "                time.sleep(2)\n",
    "        #         brows.close()\n",
    "                PHONE = \"\"\n",
    "                MOBILE =\"\"\n",
    "                TOTAL_CENTRE = \"\"\n",
    "                ADDRESS = \"\"\n",
    "                INSTITUTE_WEBSITE = \"\"\n",
    "                EMAIL = \"\"\n",
    "\n",
    "                if len(h1) != 0 :\n",
    "                    web = h1[0].find('a',{'title': ins_name+ \" \" +'Website'})\n",
    "                    if web is not None:\n",
    "                        INSTITUTE_WEBSITE = web.get('href')\n",
    "                    else:\n",
    "                        INSTITUTE_WEBSITE = \"na\"\n",
    "                else:\n",
    "                    INSTITUTE_WEBSITE = \"na\"\n",
    "                time.sleep(1)\n",
    "\n",
    "                if len(h1) != 0 :\n",
    "                    mail = h1[0].find_all('div',{'class': 'wrap toLowercase ng-binding flex'})\n",
    "                    if len(mail) != 0:\n",
    "                        if(re.search(r'[\\w.-]+@[\\w.-]+.\\w+', mail[0].text)):\n",
    "                            EMAIL = mail[0].text\n",
    "                    else:\n",
    "                        EMAIL = \"na\"\n",
    "                else:\n",
    "                    EMAIL = \"na\"\n",
    "\n",
    "                time.sleep(1)\n",
    "\n",
    "                if len(h1) != 0 :\n",
    "                    ac = h1[0].find_all('div',{'class': 'wrap ng-binding flex'})\n",
    "                    for i in range(len(ac)):\n",
    "                        if(re.search(\"\\d{3}-\\d{7}\",ac[i].text.strip()) or re.search(\"^(\\d{11})$\",ac[i].text.strip()) or re.search(\"\\d{3,4}[- ]\\d{3,4}[- ]\\d{3,4}\",ac[i].text.strip())):\n",
    "                            if len(ac[i].text.strip()) != 0:\n",
    "                                PHONE = ac[i].text.strip()\n",
    "                            else:\n",
    "                                PHONE = \"na\"\n",
    "                        elif(re.search(\"^(\\d{10},)*\\d{10}$\",ac[i].text.strip()) or re.search(\"((91|\\+91|\\(\\+91\\))?\\s?\\d{10})\",ac[i].text.strip())):\n",
    "                            if len(ac[i].text.strip()) != 0:\n",
    "                                MOBILE = ac[i].text.strip()\n",
    "                            else:\n",
    "                                MOBILE = \"na\"\n",
    "                        elif((re.search(\"[cC]entre\", ac[i].text.strip()) or re.search(\"[iI]ndia\", ac[i].text.strip())) and len(ac[i].text.strip())<=22):\n",
    "                            if len(ac[i].text.strip()) != 0:\n",
    "                                TOTAL_CENTRE = ac[i].text.strip()\n",
    "                            else:\n",
    "                                TOTAL_CENTRE = \"na\"\n",
    "                        else:\n",
    "                            if len(ac[i].text.strip()) != 0:\n",
    "                                ADDRESS = ac[i].text.strip()\n",
    "                            else:\n",
    "                                ADDRESS = \"na,\"\n",
    "\n",
    "                \n",
    "                lst_dict.append({'INSTITUTE_CATEGORY_URL':CATEGORY_URL, 'INSTITUTE_URL':INSTITUTE_URL, 'INSTITUTE_WEBSITE': INSTITUTE_WEBSITE,'INSTITUTE_NAME':INSTITUTE_NAME,'INSTITUTE_EMAIL':EMAIL,'INSTITUTE_PHONE':PHONE,'INSTITUTE_MOBILE':MOBILE,'TOTAL_CENTRE':TOTAL_CENTRE,'INSTITUTE_ADDRESS':ADDRESS.replace(\",\", \"|\")})\n",
    "#                 print(lst_dict)\n",
    "                time.sleep(10)\n",
    "                brows.close()\n",
    "                \n",
    "        except :\n",
    "            pass\n",
    "\n",
    "        df = pd.DataFrame(lst_dict)\n",
    "#         print(df)\n",
    "        df.to_excel(writer,str(a),columns=['INSTITUTE_CATEGORY_URL','INSTITUTE_URL','INSTITUTE_WEBSITE','INSTITUTE_NAME','INSTITUTE_EMAIL','INSTITUTE_PHONE','INSTITUTE_MOBILE','TOTAL_CENTRE','INSTITUTE_ADDRESS'])\n",
    "        lst_dict = []\n",
    "    writer.save()    \n",
    "except :\n",
    "    \n",
    "    pass\n",
    "    writer.save()\n"
   ]
  },
  {
   "cell_type": "code",
   "execution_count": null,
   "metadata": {},
   "outputs": [],
   "source": []
  },
  {
   "cell_type": "code",
   "execution_count": 8,
   "metadata": {},
   "outputs": [
    {
     "data": {
      "text/plain": [
       "'<!DOCTYPE html><!--[if IE 8 ]><html class=\"no-js oldie ie8\" lang=\"en\"> <![endif]--><!--[if IE 9 ]><html class=\"no-js oldie ie9\" lang=\"en\"> <![endif]--><!--[if (gte IE 9)|!(IE)]><!--><html xmlns=\"http://www.w3.org/1999/xhtml\" class=\"no-js\" lang=\"en\"><head><style>\\n   @font-face {\\n      font-family: \"Avenir\";\\n      font-display: auto;\\n      src: local(\\'Arvo\\'), url(\\'font/avenir/Avenir.ttf\\');\\n   }\\n\\n   .mainFont {\\n      font-family: \"Avenir\";\\n   }\\n</style>\\n\\n<!--<![endif]-->\\n\\n\\n\\n   <!--- basic page needs\\n   ================================================== -->\\n   <meta charset=\"utf-8\" />\\n   <title>Exambazaar - Page not found</title>\\n   <meta name=\"description\" content=\"\" />\\n   <meta name=\"author\" content=\"\" />\\n   <meta name=\"prerender-status-code\" content=\"404\" />\\n   <!-- mobile specific metas\\n   ================================================== -->\\n   <meta name=\"viewport\" content=\"width=device-width, initial-scale=1, maximum-scale=1\" />\\n\\n   <!-- CSS\\n   ================================================== -->\\n   <link rel=\"stylesheet\" href=\"error-css/base.css\" />\\n   <link rel=\"stylesheet\" href=\"error-css/main.css\" />\\n\\n   <!-- script\\n   ================================================== -->\\n   <script src=\"error-js/modernizr.js\"></script>\\n\\n   <!-- favicons\\n\\t================================================== -->\\n   <link rel=\"icon\" type=\"image/png\" href=\"./public/images/logo/favicon.ico\" />\\n\\n</head>\\n\\n<body>\\n\\n   <!-- header \\n   ================================================== -->\\n   <header class=\"main-header\">\\n      <div class=\"row\">\\n         <div class=\"logo\">\\n            <a href=\"https://exambazaar.com/\" target=\"_blank\">Exambazaar</a>\\n         </div>\\n         <!--<p class=\"mainFont\">\\n            <a href=\"https://exambazaar.com/\" target=\"_blank\">Exambazaar</a>\\n        </p>-->\\n      </div>\\n\\n   </header> <!-- /header -->\\n\\n\\n   <!-- main content\\n   ================================================== -->\\n   <main id=\"main-404-content\" class=\"main-content-particle-js\">\\n\\n      <div class=\"content-wrap\">\\n\\n         <div class=\"shadow-overlay\"></div>\\n\\n         <div class=\"main-content\">\\n            <div class=\"row\">\\n               <div class=\"col-twelve\">\\n\\n                  <h1 class=\"kern-this\">404 Error.</h1>\\n                  <p>\\n                     Oooooops! Looks like you\\'ve fallen off the bazaar.\\n                  </p>\\n\\n               </div> <!-- /twelve -->\\n            </div> <!-- /row -->\\n            <div class=\"row\">\\n               <div class=\"col-five tab-full bottom-links\">\\n                  <ul class=\"links\">\\n                     <li><a href=\"https://exambazaar.com/\">Back to Exambazaar.com</a></li>\\n                     <li><a href=\"mailto:always@exambazaar.com\">Report Error</a></li>\\n                  </ul>\\n               </div>\\n\\n            </div>\\n         </div> <!-- /main-content -->\\n\\n\\n      </div> <!-- /content-wrap -->\\n\\n   </main> <!-- /main-404-content -->\\n\\n   <div id=\"preloader\">\\n      <div id=\"loader\"></div>\\n   </div>\\n   <script src=\"error-js/jquery-2.1.3.min.js\"></script>\\n   <script src=\"error-js/plugins.js\"></script>\\n   <script src=\"error-js/main.js\"></script>\\n\\n\\n\\n</body></html>'"
      ]
     },
     "execution_count": 8,
     "metadata": {},
     "output_type": "execute_result"
    }
   ],
   "source": [
    "link_data"
   ]
  },
  {
   "cell_type": "code",
   "execution_count": 9,
   "metadata": {},
   "outputs": [
    {
     "data": {
      "text/plain": [
       "'C:\\\\Users\\\\user'"
      ]
     },
     "execution_count": 9,
     "metadata": {},
     "output_type": "execute_result"
    }
   ],
   "source": [
    "import os\n",
    "os.getcwd()"
   ]
  },
  {
   "cell_type": "code",
   "execution_count": null,
   "metadata": {},
   "outputs": [],
   "source": []
  }
 ],
 "metadata": {
  "kernelspec": {
   "display_name": "Python 3",
   "language": "python",
   "name": "python3"
  },
  "language_info": {
   "codemirror_mode": {
    "name": "ipython",
    "version": 3
   },
   "file_extension": ".py",
   "mimetype": "text/x-python",
   "name": "python",
   "nbconvert_exporter": "python",
   "pygments_lexer": "ipython3",
   "version": "3.6.5"
  }
 },
 "nbformat": 4,
 "nbformat_minor": 2
}
